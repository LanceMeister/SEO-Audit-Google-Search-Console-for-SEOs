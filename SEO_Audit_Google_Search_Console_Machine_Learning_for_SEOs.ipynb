{
  "nbformat": 4,
  "nbformat_minor": 0,
  "metadata": {
    "colab": {
      "name": "SEO Audit - Google Search Console - Machine Learning for SEOs.ipynb",
      "provenance": [],
      "collapsed_sections": [],
      "include_colab_link": true
    },
    "kernelspec": {
      "name": "python3",
      "display_name": "Python 3"
    }
  },
  "cells": [
    {
      "cell_type": "markdown",
      "metadata": {
        "id": "view-in-github",
        "colab_type": "text"
      },
      "source": [
        "<a href=\"https://colab.research.google.com/github/LanceMeister/SEO-Audit-Google-Search-Console-for-SEOs/blob/main/SEO_Audit_Google_Search_Console_Machine_Learning_for_SEOs.ipynb\" target=\"_parent\"><img src=\"https://colab.research.google.com/assets/colab-badge.svg\" alt=\"Open In Colab\"/></a>"
      ]
    },
    {
      "cell_type": "markdown",
      "metadata": {
        "id": "ccz2TrYWBxpO"
      },
      "source": [
        "# A Hands-on Introduction to Machine Learning for SEOs\n",
        "\n",
        "Here is technical plan to generate the training dataset:\n",
        "\n",
        "1. Extract: we will walk through my code to connect to Google Search Console and pull CTR data\n",
        "2. Transform: then, we will fetch the pages titles and meta descriptions and normalize/clean them\n",
        "3. Load: finally, we will populate a Google Sheet with the pages, titles, meta descriptions and CTRs"
      ]
    },
    {
      "cell_type": "code",
      "metadata": {
        "id": "QN-31rag7ccu",
        "cellView": "form"
      },
      "source": [
        "spreadsheetName=\"GSC Data\" #@param {type:\"string\"}\n",
        "sitename=\"sc-domain:meisteraffiliateshop.com\" #@param {type:\"string\"}\n",
        "client_id='google_secret.json' #@param {type:\"string\"}\n"
      ],
      "execution_count": null,
      "outputs": []
    },
    {
      "cell_type": "markdown",
      "metadata": {
        "id": "TFuwmsfMEav_"
      },
      "source": [
        "## Extracting from Google Search Console\n",
        "\n",
        "First, there is some setup to download a client_id.json file our Python code can use to connect securely to Google Search Console.\n",
        "\n",
        "1. Activate Search Console API in Compute Engine  https://console.cloud.google.com/apis/api/webmasters.googleapis.com/overview?project=&folder=&organizationId=\n",
        "2. Create New Credentials / Help me choose (Search Console API, Other UI, User data)  https://console.cloud.google.com/apis/credentials/wizard?api=iamcredentials.googleapis.com&project=\n",
        "3. Download client_id.json"
      ]
    },
    {
      "cell_type": "code",
      "metadata": {
        "id": "EbTXkq_MFWLb",
        "cellView": "form"
      },
      "source": [
        "#@title\n",
        "# Go to Runtime > run after\n",
        "!pip install git+https://github.com/joshcarty/google-searchconsole"
      ],
      "execution_count": null,
      "outputs": []
    },
    {
      "cell_type": "code",
      "metadata": {
        "id": "LMLAGTlsFSNs",
        "cellView": "form"
      },
      "source": [
        "#@title\n",
        "# run once\n",
        "import searchconsole\n",
        "#Create the account connection. \n",
        "try:\n",
        "\taccount = searchconsole.authenticate(flow=\"console\",client_config='/content/drive/MyDrive/config/client_secret_395713215546-kmpj3c3r57e5f08dmrmd36js8u2m5av6.apps.googleusercontent.com.json',credentials='/content/drive/MyDrive/config/buoyant-zodiac-328808-e9f3add2cb89.json')\n",
        "except:\n",
        "\taccount = searchconsole.authenticate(flow=\"console\",client_config='/content/drive/MyDrive/config/client_secret_395713215546-kmpj3c3r57e5f08dmrmd36js8u2m5av6.apps.googleusercontent.com.json',serialize='/content/drive/MyDrive/config/buoyant-zodiac-328808-e9f3add2cb89.json')\n"
      ],
      "execution_count": null,
      "outputs": []
    },
    {
      "cell_type": "markdown",
      "metadata": {
        "id": "w2kS9MCEIUix"
      },
      "source": [
        "\n",
        "Let's get our Search Console data"
      ]
    },
    {
      "cell_type": "code",
      "metadata": {
        "id": "W2M29fZ-IYDG",
        "cellView": "form"
      },
      "source": [
        "#@title\n",
        "webproperty = account[sitename]"
      ],
      "execution_count": null,
      "outputs": []
    },
    {
      "cell_type": "code",
      "metadata": {
        "id": "Ea95fooEIlw4",
        "cellView": "form"
      },
      "source": [
        "#@title\n",
        "#let's build a pandas dataframe with the search console data\n",
        "import pandas as pd\n",
        "%load_ext google.colab.data_table\n",
        "\n",
        "def get_search_console_data(webproperty, days=-7):\n",
        "  if webproperty is not None:\n",
        "    query = webproperty.query.range(start='today', days=days).dimension('date', 'page', 'query', 'country', 'device')\n",
        "\n",
        "    r = query.get()\n",
        "    df = pd.DataFrame(r.rows)\n",
        "    return df\n",
        "\n",
        "  print(\"Web property doesn't exist, please select a valid one from this list\")\n",
        "  print(account.webproperties)\n",
        "\n",
        "  return None\n"
      ],
      "execution_count": null,
      "outputs": []
    },
    {
      "cell_type": "code",
      "metadata": {
        "id": "DXORyjWXJg8J",
        "cellView": "form"
      },
      "source": [
        "#@title\n",
        "df = get_search_console_data(webproperty)"
      ],
      "execution_count": null,
      "outputs": []
    },
    {
      "cell_type": "code",
      "metadata": {
        "id": "tWhS8WmVJltN",
        "cellView": "form"
      },
      "source": [
        "#@title\n",
        "df.info()"
      ],
      "execution_count": null,
      "outputs": []
    },
    {
      "cell_type": "code",
      "metadata": {
        "id": "wf6Wz1ViO1_z",
        "cellView": "form"
      },
      "source": [
        "#@title\n",
        "df.head()"
      ],
      "execution_count": null,
      "outputs": []
    },
    {
      "cell_type": "code",
      "metadata": {
        "id": "ZZnrNPCiO7OA",
        "cellView": "form"
      },
      "source": [
        "#@title\n",
        "pages = list(set(df.page))\n",
        "len(pages)"
      ],
      "execution_count": null,
      "outputs": []
    },
    {
      "cell_type": "markdown",
      "source": [
        "## Extracting SEO Audit"
      ],
      "metadata": {
        "id": "1kv6QxgwUi5Z"
      }
    },
    {
      "cell_type": "code",
      "source": [
        "#@title\n",
        "try:\n",
        "  from seoanalyzer import analyze\n",
        "except:\n",
        "  !pip install git+https://github.com/LanceMeister/python-seo-analyzer\n",
        "  from seoanalyzer import analyze"
      ],
      "metadata": {
        "id": "vpyclOZu_qjo",
        "cellView": "form"
      },
      "execution_count": null,
      "outputs": []
    },
    {
      "cell_type": "code",
      "source": [
        "#@title\n",
        "output = analyze('https://www.meisteraffiliateshop.com', analyze_headings=True, analyze_extra_tags=True) \n",
        "seo_df= pd.DataFrame(output['pages'])\n",
        "seo_df.head()"
      ],
      "metadata": {
        "id": "k2XC5vXaAOBp",
        "cellView": "form"
      },
      "execution_count": null,
      "outputs": []
    },
    {
      "cell_type": "code",
      "source": [
        "#@title\n",
        "seo_df.info()"
      ],
      "metadata": {
        "id": "tuU1zrfWV-9y",
        "cellView": "form"
      },
      "execution_count": null,
      "outputs": []
    },
    {
      "cell_type": "code",
      "source": [
        "#@title\n",
        "seo_df.dropna().head()"
      ],
      "metadata": {
        "id": "wC70MDs9Om0E",
        "cellView": "form"
      },
      "execution_count": null,
      "outputs": []
    },
    {
      "cell_type": "markdown",
      "metadata": {
        "id": "ni6MSAdow6gM"
      },
      "source": [
        "## Merge dataframes\n",
        "\n"
      ]
    },
    {
      "cell_type": "code",
      "metadata": {
        "id": "LRYUD4B_xL7T",
        "cellView": "form"
      },
      "source": [
        "#@title\n",
        "merged_df=pd.merge(df, seo_df, how=\"left\", on=\"page\")"
      ],
      "execution_count": null,
      "outputs": []
    },
    {
      "cell_type": "code",
      "metadata": {
        "id": "icbeBvcnxOVU",
        "cellView": "form"
      },
      "source": [
        "#@title\n",
        "merged_df.head()"
      ],
      "execution_count": null,
      "outputs": []
    },
    {
      "cell_type": "code",
      "metadata": {
        "id": "1-h7dxUQxUss",
        "cellView": "form"
      },
      "source": [
        "#@title\n",
        "merged_df.info()"
      ],
      "execution_count": null,
      "outputs": []
    },
    {
      "cell_type": "code",
      "metadata": {
        "id": "kjRQ2ZHxLQrg",
        "cellView": "form"
      },
      "source": [
        "#@title\n",
        "merged_df.dropna().head()"
      ],
      "execution_count": null,
      "outputs": []
    },
    {
      "cell_type": "markdown",
      "metadata": {
        "id": "AEpv_9JBLhwb"
      },
      "source": [
        "## Keywords in title\n",
        "\n",
        "https://stackoverflow.com/questions/31806695/when-to-use-which-fuzz-function-to-compare-2-strings\n",
        "https://chairnerd.seatgeek.com/fuzzywuzzy-fuzzy-string-matching-in-python/\n",
        "https://github.com/seatgeek/fuzzywuzzy"
      ]
    },
    {
      "cell_type": "code",
      "metadata": {
        "id": "wwtEXDjuMsRJ",
        "cellView": "form"
      },
      "source": [
        "#@title\n",
        "!pip install fuzzywuzzy[speedup]"
      ],
      "execution_count": null,
      "outputs": []
    },
    {
      "cell_type": "code",
      "metadata": {
        "id": "nK9hmVHCNBfO",
        "cellView": "form"
      },
      "source": [
        "#@title\n",
        "from fuzzywuzzy import fuzz"
      ],
      "execution_count": null,
      "outputs": []
    },
    {
      "cell_type": "code",
      "metadata": {
        "id": "Jglurn9PQJ_9",
        "cellView": "form"
      },
      "source": [
        "#@title\n",
        "#remove empty rows\n",
        "df = merged_df.dropna()"
      ],
      "execution_count": null,
      "outputs": []
    },
    {
      "cell_type": "code",
      "metadata": {
        "id": "EqD4trpWNxbZ",
        "cellView": "form"
      },
      "source": [
        "#@title\n",
        "#df.apply(lambda row: fuzz.partial_ratio(row[\"query\"], row[\"title\"]), axis = 1)\n",
        "df[\"query_in_title\"] = df.apply(lambda row: fuzz.partial_ratio(row[\"query\"], row[\"title\"]), axis=1)\n",
        "# shift column 'query_in_title' to tenth position\n",
        "tenth_column = df.pop('query_in_title')\n",
        "# insert column using insert(position,column_name,first_column) function\n",
        "df.insert(10, 'query_in_title', tenth_column)\n",
        "df"
      ],
      "execution_count": null,
      "outputs": []
    },
    {
      "cell_type": "code",
      "source": [
        "#@title\n",
        "de_df = df.query('country == \"deu\"')\n",
        "de_df"
      ],
      "metadata": {
        "id": "lardHapzZHAS",
        "cellView": "form"
      },
      "execution_count": null,
      "outputs": []
    },
    {
      "cell_type": "markdown",
      "metadata": {
        "id": "j4XLpVUFVcpC"
      },
      "source": [
        "## Populating our Google Sheet"
      ]
    },
    {
      "cell_type": "markdown",
      "source": [
        "https://pypi.org/project/gspread-pandas/\n",
        "\n",
        "https://github.com/aiguofer/gspread-pandas/pull/47\n",
        "\n",
        "https://gspread-pandas.readthedocs.io/en/latest/getting_started.html"
      ],
      "metadata": {
        "id": "3TkPa337jwOQ"
      }
    },
    {
      "cell_type": "code",
      "metadata": {
        "id": "LGGKD7nzXt18",
        "cellView": "form"
      },
      "source": [
        "#@title\n",
        "!pip install gspread-pandas\n",
        "!pip install --upgrade google-auth[reauth]\n"
      ],
      "execution_count": null,
      "outputs": []
    },
    {
      "cell_type": "code",
      "metadata": {
        "id": "3i2wGQnzyb8k",
        "cellView": "form"
      },
      "source": [
        "#@title\n",
        "from google.colab import auth\n",
        "auth.authenticate_user()\n",
        "import google.auth\n",
        "import gspread"
      ],
      "execution_count": null,
      "outputs": []
    },
    {
      "cell_type": "code",
      "metadata": {
        "id": "mdCOnEp8ykj_",
        "cellView": "form"
      },
      "source": [
        "#@title\n",
        "from gspread_pandas import Spread, Client"
      ],
      "execution_count": null,
      "outputs": []
    },
    {
      "cell_type": "code",
      "metadata": {
        "id": "tljyUghFyrVx",
        "cellView": "form"
      },
      "source": [
        "#@title\n",
        "import google.auth\n",
        "\n",
        "creds, project = google.auth.default()\n"
      ],
      "execution_count": null,
      "outputs": []
    },
    {
      "cell_type": "code",
      "metadata": {
        "id": "6Wgu5tlFynPB",
        "cellView": "form"
      },
      "source": [
        "#@title\n",
        "spread = Spread(spreadsheetName, creds=creds)\n",
        "spread\n"
      ],
      "execution_count": null,
      "outputs": []
    },
    {
      "cell_type": "code",
      "metadata": {
        "id": "7GdQhApjzLGi",
        "colab": {
          "base_uri": "https://localhost:8080/"
        },
        "outputId": "41c30ce8-00c1-46e8-d5e6-eb98c0b58410",
        "cellView": "form"
      },
      "source": [
        "#@title\n",
        "# Display available worksheets\n",
        "spread.sheets"
      ],
      "execution_count": null,
      "outputs": [
        {
          "output_type": "execute_result",
          "data": {
            "text/plain": [
              "[<Worksheet 'Sheet1' id:0>, <Worksheet 'Client' id:1120219873>]"
            ]
          },
          "metadata": {},
          "execution_count": 33
        }
      ]
    },
    {
      "cell_type": "code",
      "metadata": {
        "id": "DydKTAfLzOx9",
        "cellView": "form"
      },
      "source": [
        "#@title\n",
        "# Save DataFrame to worksheet 'Client', create it first if it doesn't exist\n",
        "spread.df_to_sheet(df, index=False, sheet='Client', start='A1', replace=True)"
      ],
      "execution_count": null,
      "outputs": []
    },
    {
      "cell_type": "code",
      "metadata": {
        "id": "e-fpBUmjz58O",
        "colab": {
          "base_uri": "https://localhost:8080/"
        },
        "outputId": "76ebc3d3-3063-4682-e58e-5ec7250b1002",
        "cellView": "form"
      },
      "source": [
        "#@title\n",
        "spread.sheets"
      ],
      "execution_count": null,
      "outputs": [
        {
          "output_type": "execute_result",
          "data": {
            "text/plain": [
              "[<Worksheet 'Sheet1' id:0>, <Worksheet 'Client' id:1120219873>]"
            ]
          },
          "metadata": {},
          "execution_count": 35
        }
      ]
    },
    {
      "cell_type": "code",
      "source": [
        ""
      ],
      "metadata": {
        "id": "nEQUROjol9mS"
      },
      "execution_count": null,
      "outputs": []
    }
  ]
}